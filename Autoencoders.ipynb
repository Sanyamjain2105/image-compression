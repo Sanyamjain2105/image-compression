{
  "cells": [
    {
      "cell_type": "markdown",
      "id": "4ef4fa8f",
      "metadata": {
        "id": "4ef4fa8f"
      },
      "source": [
        "# UG Project\n",
        "---\n",
        "#Name: Sanyam Jain\n",
        "#Roll no. : 22124053\n",
        "\n",
        "\n",
        "---\n",
        "\n",
        "\n",
        "# Autoencoders\n",
        "\n",
        "Autoencoders are neural networks that learn efficient data encodings in an unsupervised manner. They consist of an **encoder** and a **decoder** block.\n",
        "\n",
        "---\n",
        "## Table of Contents\n",
        "1. [Linear Autoencoders](#linear)\n",
        "2. [Convolutional Autoencoders](#conv)\n"
      ]
    },
    {
      "cell_type": "markdown",
      "id": "2b9def57",
      "metadata": {
        "id": "2b9def57"
      },
      "source": [
        "\n",
        "## <a name=\"linear\"></a>1. Linear Autoencoders\n",
        "\n",
        "In this section, we use a simple feedforward neural network architecture to create an autoencoder using the **MNIST dataset**.\n",
        "\n",
        "### Model Architecture\n",
        "We compress the `28x28` images into a lower-dimensional space and then reconstruct them.\n",
        "\n",
        "---\n"
      ]
    },
    {
      "cell_type": "code",
      "execution_count": 1,
      "id": "de41b1e9",
      "metadata": {
        "id": "de41b1e9"
      },
      "outputs": [],
      "source": [
        "# Import necessary libraries\n",
        "import torch\n",
        "import torch.nn as nn\n",
        "import torchvision.transforms as transforms\n",
        "from torchvision.datasets import MNIST\n",
        "from torch.utils.data import DataLoader\n",
        "import matplotlib.pyplot as plt\n",
        "\n",
        "# Device configuration\n",
        "device = torch.device('cuda' if torch.cuda.is_available() else 'cpu')\n"
      ]
    },
    {
      "cell_type": "code",
      "execution_count": 2,
      "id": "4cb51e4a",
      "metadata": {
        "colab": {
          "base_uri": "https://localhost:8080/"
        },
        "id": "4cb51e4a",
        "outputId": "f8bccd5c-7140-4746-fb0c-ee439040c268"
      },
      "outputs": [
        {
          "output_type": "stream",
          "name": "stderr",
          "text": [
            "100%|██████████| 9.91M/9.91M [00:01<00:00, 5.06MB/s]\n",
            "100%|██████████| 28.9k/28.9k [00:00<00:00, 133kB/s]\n",
            "100%|██████████| 1.65M/1.65M [00:01<00:00, 1.25MB/s]\n",
            "100%|██████████| 4.54k/4.54k [00:00<00:00, 9.07MB/s]\n"
          ]
        }
      ],
      "source": [
        "\n",
        "# Load MNIST dataset\n",
        "transform = transforms.ToTensor()\n",
        "train_dataset = MNIST(root='./data', train=True, transform=transform, download=True)\n",
        "train_loader = DataLoader(train_dataset, batch_size=128, shuffle=True)\n"
      ]
    },
    {
      "cell_type": "code",
      "execution_count": 3,
      "id": "b6c98972",
      "metadata": {
        "id": "b6c98972"
      },
      "outputs": [],
      "source": [
        "\n",
        "# Define a simple Linear Autoencoder model\n",
        "class LinearAutoencoder(nn.Module):\n",
        "    def __init__(self, encoding_dim):\n",
        "        super(LinearAutoencoder, self).__init__()\n",
        "        self.encoder = nn.Sequential(\n",
        "            nn.Linear(28*28, encoding_dim),\n",
        "            nn.ReLU()\n",
        "        )\n",
        "        self.decoder = nn.Sequential(\n",
        "            nn.Linear(encoding_dim, 28*28),\n",
        "            nn.Sigmoid()\n",
        "        )\n",
        "\n",
        "    def forward(self, x):\n",
        "        x = x.view(x.size(0), -1)\n",
        "        encoded = self.encoder(x)\n",
        "        decoded = self.decoder(encoded)\n",
        "        return decoded.view(-1, 1, 28, 28)\n"
      ]
    },
    {
      "cell_type": "code",
      "execution_count": 4,
      "id": "2b027e42",
      "metadata": {
        "id": "2b027e42"
      },
      "outputs": [],
      "source": [
        "\n",
        "# Initialize the model, loss function and optimizer\n",
        "encoding_dim = 64  # change this to 32, 128, or 256 to see the effect\n",
        "model = LinearAutoencoder(encoding_dim).to(device)\n",
        "criterion = nn.MSELoss()\n",
        "optimizer = torch.optim.Adam(model.parameters(), lr=1e-3)\n"
      ]
    },
    {
      "cell_type": "code",
      "execution_count": 5,
      "id": "669f049c",
      "metadata": {
        "colab": {
          "base_uri": "https://localhost:8080/"
        },
        "id": "669f049c",
        "outputId": "ff3e595d-f99a-40c5-b140-e267aaac8c0b"
      },
      "outputs": [
        {
          "output_type": "stream",
          "name": "stdout",
          "text": [
            "Epoch [1/5], Loss: 0.0255\n",
            "Epoch [2/5], Loss: 0.0154\n",
            "Epoch [3/5], Loss: 0.0120\n",
            "Epoch [4/5], Loss: 0.0087\n",
            "Epoch [5/5], Loss: 0.0066\n"
          ]
        }
      ],
      "source": [
        "\n",
        "# Train the model for 5 epochs\n",
        "num_epochs = 5\n",
        "for epoch in range(num_epochs):\n",
        "    for images, _ in train_loader:\n",
        "        images = images.to(device)\n",
        "        outputs = model(images)\n",
        "        loss = criterion(outputs, images)\n",
        "\n",
        "        optimizer.zero_grad()\n",
        "        loss.backward()\n",
        "        optimizer.step()\n",
        "\n",
        "    print(f\"Epoch [{epoch+1}/{num_epochs}], Loss: {loss.item():.4f}\")\n"
      ]
    },
    {
      "cell_type": "code",
      "execution_count": 6,
      "id": "260fc884",
      "metadata": {
        "colab": {
          "base_uri": "https://localhost:8080/",
          "height": 364
        },
        "id": "260fc884",
        "outputId": "5d47492a-4d6d-44ad-cff9-1bbf8d3bcbe4"
      },
      "outputs": [
        {
          "output_type": "display_data",
          "data": {
            "text/plain": [
              "<Figure size 1500x400 with 20 Axes>"
            ],
            "image/png": "[encoded data removed]"
          },
          "metadata": {}
        }
      ],
      "source": [
        "\n",
        "# Visualize the reconstructed images\n",
        "def show_reconstructed_images(model, loader):\n",
        "    model.eval()\n",
        "    with torch.no_grad():\n",
        "        for images, _ in loader:\n",
        "            images = images.to(device)\n",
        "            outputs = model(images)\n",
        "            break\n",
        "\n",
        "    fig, axes = plt.subplots(nrows=2, ncols=10, figsize=(15, 4))\n",
        "    for i in range(10):\n",
        "        axes[0, i].imshow(images[i].cpu().squeeze(), cmap='gray')\n",
        "        axes[0, i].axis('off')\n",
        "        axes[1, i].imshow(outputs[i].cpu().squeeze(), cmap='gray')\n",
        "        axes[1, i].axis('off')\n",
        "    plt.suptitle(\"Top: Original | Bottom: Reconstructed\")\n",
        "    plt.show()\n",
        "\n",
        "show_reconstructed_images(model, train_loader)\n"
      ]
    },
    {
      "cell_type": "markdown",
      "source": [
        "\n",
        "## <a name=\"conv\"></a>2. Convolutional Autoencoders\n",
        "\n",
        "Linear autoencoders work but aren’t optimal for image data. **Convolutional Autoencoders** use convolutional layers to extract features more efficiently.\n",
        "\n",
        "### Why Convolutional?\n",
        "They:\n",
        "- Preserve spatial locality\n",
        "- Compress image features more effectively\n",
        "- Use fewer parameters for better performance\n",
        "\n",
        "---\n"
      ],
      "metadata": {
        "id": "mae53KgRo9wt"
      },
      "id": "mae53KgRo9wt"
    },
    {
      "cell_type": "code",
      "source": [
        "\n",
        "# Define the Convolutional Autoencoder model\n",
        "class ConvAutoencoder(nn.Module):\n",
        "    def __init__(self):\n",
        "        super(ConvAutoencoder, self).__init__()\n",
        "        self.encoder = nn.Sequential(\n",
        "            nn.Conv2d(1, 64, kernel_size=3, stride=1, padding=1),  # -> [B, 64, 28, 28]\n",
        "            nn.ReLU(),\n",
        "            nn.MaxPool2d(2, 2),  # -> [B, 64, 14, 14]\n",
        "            nn.Conv2d(64, 8, kernel_size=3, stride=1, padding=1),  # -> [B, 8, 14, 14]\n",
        "            nn.ReLU(),\n",
        "            nn.MaxPool2d(2, 2)   # -> [B, 8, 7, 7]\n",
        "        )\n",
        "        self.decoder = nn.Sequential(\n",
        "            nn.ConvTranspose2d(8, 64, kernel_size=2, stride=2),  # -> [B, 64, 14, 14]\n",
        "            nn.ReLU(),\n",
        "            nn.ConvTranspose2d(64, 1, kernel_size=2, stride=2),  # -> [B, 1, 28, 28]\n",
        "            nn.Sigmoid()\n",
        "        )\n",
        "\n",
        "    def forward(self, x):\n",
        "        encoded = self.encoder(x)\n",
        "        decoded = self.decoder(encoded)\n",
        "        return decoded\n"
      ],
      "metadata": {
        "id": "ZNK-riHvoj01"
      },
      "id": "ZNK-riHvoj01",
      "execution_count": 7,
      "outputs": []
    },
    {
      "cell_type": "code",
      "source": [
        "\n",
        "# Initialize model, loss function, and optimizer\n",
        "model = ConvAutoencoder().to(device)\n",
        "criterion = nn.MSELoss()\n",
        "optimizer = torch.optim.Adam(model.parameters(), lr=1e-3)\n"
      ],
      "metadata": {
        "id": "dylNiqFFoxpp"
      },
      "id": "dylNiqFFoxpp",
      "execution_count": 8,
      "outputs": []
    },
    {
      "cell_type": "code",
      "source": [
        "\n",
        "# Train for 30 epochs\n",
        "num_epochs = 30\n",
        "for epoch in range(num_epochs):\n",
        "    for images, _ in train_loader:\n",
        "        images = images.to(device)\n",
        "        outputs = model(images)\n",
        "        loss = criterion(outputs, images)\n",
        "\n",
        "        optimizer.zero_grad()\n",
        "        loss.backward()\n",
        "        optimizer.step()\n",
        "\n",
        "    print(f\"Epoch [{epoch+1}/{num_epochs}], Loss: {loss.item():.4f}\")\n"
      ],
      "metadata": {
        "colab": {
          "base_uri": "https://localhost:8080/"
        },
        "id": "cMsBWLEqoznF",
        "outputId": "1834518d-1e0b-428a-9894-8b28cf789cf0"
      },
      "id": "cMsBWLEqoznF",
      "execution_count": 9,
      "outputs": [
        {
          "output_type": "stream",
          "name": "stdout",
          "text": [
            "Epoch [1/30], Loss: 0.0104\n",
            "Epoch [2/30], Loss: 0.0087\n",
            "Epoch [3/30], Loss: 0.0069\n",
            "Epoch [4/30], Loss: 0.0065\n",
            "Epoch [5/30], Loss: 0.0062\n",
            "Epoch [6/30], Loss: 0.0063\n",
            "Epoch [7/30], Loss: 0.0059\n",
            "Epoch [8/30], Loss: 0.0059\n",
            "Epoch [9/30], Loss: 0.0052\n",
            "Epoch [10/30], Loss: 0.0047\n",
            "Epoch [11/30], Loss: 0.0053\n",
            "Epoch [12/30], Loss: 0.0046\n",
            "Epoch [13/30], Loss: 0.0045\n",
            "Epoch [14/30], Loss: 0.0043\n",
            "Epoch [15/30], Loss: 0.0044\n",
            "Epoch [16/30], Loss: 0.0039\n",
            "Epoch [17/30], Loss: 0.0043\n",
            "Epoch [18/30], Loss: 0.0036\n",
            "Epoch [19/30], Loss: 0.0043\n",
            "Epoch [20/30], Loss: 0.0036\n",
            "Epoch [21/30], Loss: 0.0040\n",
            "Epoch [22/30], Loss: 0.0037\n",
            "Epoch [23/30], Loss: 0.0039\n",
            "Epoch [24/30], Loss: 0.0039\n",
            "Epoch [25/30], Loss: 0.0038\n",
            "Epoch [26/30], Loss: 0.0034\n",
            "Epoch [27/30], Loss: 0.0038\n",
            "Epoch [28/30], Loss: 0.0033\n",
            "Epoch [29/30], Loss: 0.0034\n",
            "Epoch [30/30], Loss: 0.0037\n"
          ]
        }
      ]
    },
    {
      "cell_type": "code",
      "source": [
        "\n",
        "# Visualize reconstructed images\n",
        "def show_conv_reconstructions(model, loader):\n",
        "    model.eval()\n",
        "    with torch.no_grad():\n",
        "        for images, _ in loader:\n",
        "            images = images.to(device)\n",
        "            outputs = model(images)\n",
        "            break\n",
        "\n",
        "    fig, axes = plt.subplots(nrows=2, ncols=10, figsize=(15, 4))\n",
        "    for i in range(10):\n",
        "        axes[0, i].imshow(images[i].cpu().squeeze(), cmap='gray')\n",
        "        axes[0, i].axis('off')\n",
        "        axes[1, i].imshow(outputs[i].cpu().squeeze(), cmap='gray')\n",
        "        axes[1, i].axis('off')\n",
        "    plt.suptitle(\"Top: Original | Bottom: Reconstructed\")\n",
        "    plt.show()\n",
        "\n",
        "show_conv_reconstructions(model, train_loader)\n"
      ],
      "metadata": {
        "colab": {
          "base_uri": "https://localhost:8080/",
          "height": 364
        },
        "id": "6HaQTP9no1W7",
        "outputId": "de2863e2-310e-4385-cc0f-d7b93836686b"
      },
      "id": "6HaQTP9no1W7",
      "execution_count": 10,
      "outputs": [
        {
          "output_type": "display_data",
          "data": {
            "text/plain": [
              "<Figure size 1500x400 with 20 Axes>"
            ],
            "image/png": "[encoded data removed]"
          },
          "metadata": {}
        }
      ]
    },
    {
      "cell_type": "code",
      "source": [
        "# 🧮 Compute Compression Ratio (CR)\n",
        "\n",
        "# Linear: input = 784, output = encoding_dim\n",
        "CR_linear = encoding_dim / (28 * 28)\n",
        "\n",
        "# Conv AE Encoder Output Shape:\n",
        "# Conv1: (1,28,28) → (64,28,28)\n",
        "# MaxPool: → (64,14,14)\n",
        "# Conv2: → (8,14,14)\n",
        "# MaxPool: → (8,7,7) = 392\n",
        "CR_conv = (8 * 7 * 7) / (28 * 28)\n",
        "\n",
        "print(f\"Compression Ratio - Linear AE: {CR_linear:.4f}\")\n",
        "print(f\"Compression Ratio - Conv AE: {CR_conv:.4f}\")\n"
      ],
      "metadata": {
        "id": "_19d_EOZtGHN",
        "outputId": "0af18223-b8c4-4639-dc91-18b22d51718a",
        "colab": {
          "base_uri": "https://localhost:8080/"
        }
      },
      "id": "_19d_EOZtGHN",
      "execution_count": 11,
      "outputs": [
        {
          "output_type": "stream",
          "name": "stdout",
          "text": [
            "Compression Ratio - Linear AE: 0.0816\n",
            "Compression Ratio - Conv AE: 0.5000\n"
          ]
        }
      ]
    },
    {
      "cell_type": "code",
      "source": [
        "import torch\n",
        "import torch.nn as nn\n",
        "import torchvision.transforms as transforms\n",
        "from torchvision.datasets import CIFAR10\n",
        "from torch.utils.data import DataLoader\n",
        "import matplotlib.pyplot as plt\n",
        "\n",
        "device = torch.device('cuda' if torch.cuda.is_available() else 'cpu')\n",
        "\n",
        "# CIFAR-10 dataset (RGB images)\n",
        "transform = transforms.Compose([\n",
        "    transforms.ToTensor(),\n",
        "])\n",
        "train_dataset = CIFAR10(root='./data', train=True, transform=transform, download=True)\n",
        "train_loader = DataLoader(train_dataset, batch_size=128, shuffle=True)\n",
        "\n",
        "class ConvAutoencoder(nn.Module):\n",
        "    def __init__(self):\n",
        "        super(ConvAutoencoder, self).__init__()\n",
        "        self.encoder = nn.Sequential(\n",
        "            nn.Conv2d(3, 64, kernel_size=3, stride=1, padding=1),  # [B, 64, 32, 32]\n",
        "            nn.ReLU(),\n",
        "            nn.MaxPool2d(2, 2),  # [B, 64, 16, 16]\n",
        "            nn.Conv2d(64, 8, kernel_size=3, stride=1, padding=1),  # [B, 8, 16, 16]\n",
        "            nn.ReLU(),\n",
        "            nn.MaxPool2d(2, 2)   # [B, 8, 8, 8]\n",
        "        )\n",
        "        self.decoder = nn.Sequential(\n",
        "            nn.ConvTranspose2d(8, 64, kernel_size=2, stride=2),    # [B, 64, 16, 16]\n",
        "            nn.ReLU(),\n",
        "            nn.ConvTranspose2d(64, 3, kernel_size=2, stride=2),    # [B, 3, 32, 32]\n",
        "            nn.Sigmoid()\n",
        "        )\n",
        "\n",
        "    def forward(self, x):\n",
        "        encoded = self.encoder(x)\n",
        "        decoded = self.decoder(encoded)\n",
        "        return decoded\n",
        "\n",
        "# Initialize\n",
        "model = ConvAutoencoder().to(device)\n",
        "criterion = nn.MSELoss()\n",
        "optimizer = torch.optim.Adam(model.parameters(), lr=1e-3)\n",
        "\n",
        "# Train\n",
        "num_epochs = 30\n",
        "for epoch in range(num_epochs):\n",
        "    for images, _ in train_loader:\n",
        "        images = images.to(device)\n",
        "        outputs = model(images)\n",
        "        loss = criterion(outputs, images)\n",
        "\n",
        "        optimizer.zero_grad()\n",
        "        loss.backward()\n",
        "        optimizer.step()\n",
        "    print(f\"Epoch [{epoch+1}/{num_epochs}], Loss: {loss.item():.4f}\")\n",
        "\n",
        "# Visualize\n",
        "def show_conv_reconstructions(model, loader):\n",
        "    model.eval()\n",
        "    with torch.no_grad():\n",
        "        for images, _ in loader:\n",
        "            images = images.to(device)\n",
        "            outputs = model(images)\n",
        "            break\n",
        "\n",
        "    fig, axes = plt.subplots(nrows=2, ncols=10, figsize=(15, 4))\n",
        "    for i in range(10):\n",
        "        axes[0, i].imshow(images[i].cpu().permute(1, 2, 0))  # Show RGB image\n",
        "        axes[0, i].axis('off')\n",
        "        axes[1, i].imshow(outputs[i].cpu().permute(1, 2, 0))\n",
        "        axes[1, i].axis('off')\n",
        "    plt.suptitle(\"Top: Original | Bottom: Reconstructed\")\n",
        "    plt.show()\n",
        "\n",
        "show_conv_reconstructions(model, train_loader)\n"
      ],
      "metadata": {
        "colab": {
          "base_uri": "https://localhost:8080/"
        },
        "id": "ciJEmrNxd2c9",
        "outputId": "106d8612-cfbb-414f-c01c-f0ec7de69beb"
      },
      "id": "ciJEmrNxd2c9",
      "execution_count": null,
      "outputs": [
        {
          "output_type": "stream",
          "name": "stderr",
          "text": [
            "100%|██████████| 170M/170M [00:18<00:00, 8.99MB/s]\n"
          ]
        },
        {
          "output_type": "stream",
          "name": "stdout",
          "text": [
            "Epoch [1/30], Loss: 0.0087\n",
            "Epoch [2/30], Loss: 0.0074\n",
            "Epoch [3/30], Loss: 0.0071\n",
            "Epoch [4/30], Loss: 0.0069\n",
            "Epoch [5/30], Loss: 0.0066\n",
            "Epoch [6/30], Loss: 0.0059\n",
            "Epoch [7/30], Loss: 0.0061\n",
            "Epoch [8/30], Loss: 0.0056\n",
            "Epoch [9/30], Loss: 0.0061\n",
            "Epoch [10/30], Loss: 0.0058\n",
            "Epoch [11/30], Loss: 0.0053\n",
            "Epoch [12/30], Loss: 0.0051\n",
            "Epoch [13/30], Loss: 0.0058\n",
            "Epoch [14/30], Loss: 0.0049\n",
            "Epoch [15/30], Loss: 0.0055\n",
            "Epoch [16/30], Loss: 0.0054\n",
            "Epoch [17/30], Loss: 0.0049\n",
            "Epoch [18/30], Loss: 0.0054\n",
            "Epoch [19/30], Loss: 0.0050\n",
            "Epoch [20/30], Loss: 0.0054\n",
            "Epoch [21/30], Loss: 0.0051\n",
            "Epoch [22/30], Loss: 0.0051\n",
            "Epoch [23/30], Loss: 0.0052\n",
            "Epoch [24/30], Loss: 0.0052\n",
            "Epoch [25/30], Loss: 0.0046\n"
          ]
        }
      ]
    },
    {
      "cell_type": "code",
      "source": [
        "input_channels = 3\n",
        "input_height = 32\n",
        "input_width = 32\n",
        "\n",
        "encoded_channels = 8\n",
        "encoded_height = 8\n",
        "encoded_width = 8\n",
        "\n",
        "input_size = input_channels * input_height * input_width\n",
        "encoded_size = encoded_channels * encoded_height * encoded_width\n",
        "\n",
        "compression_ratio = encoded_size / input_size\n",
        "\n",
        "print(f\"Compression Ratio (Conv AE, RGB): {compression_ratio:.4f} ({encoded_size}/{input_size})\")\n"
      ],
      "metadata": {
        "id": "kiUmz_QP2FAf"
      },
      "id": "kiUmz_QP2FAf",
      "execution_count": null,
      "outputs": []
    },
    {
      "cell_type": "code",
      "source": [
        "# import numpy as np\n",
        "# import matplotlib.pyplot as plt\n",
        "\n",
        "# # Pick one image and reshape for model input\n",
        "# image = np.expand_dims(x_test[0], axis=0)  # shape: (1, H, W, C)\n",
        "\n",
        "# # Run through autoencoder\n",
        "# reconstructed = autoencoder.predict(image)\n",
        "\n",
        "# # Plot original and reconstructed\n",
        "# plt.figure(figsize=(6, 3))\n",
        "# plt.subplot(1, 2, 1)\n",
        "# plt.title(\"Original\")\n",
        "# plt.imshow(image[0].squeeze(), cmap='gray')\n",
        "# plt.axis('off')\n",
        "\n",
        "# plt.subplot(1, 2, 2)\n",
        "# plt.title(\"Reconstructed\")\n",
        "# plt.imshow(reconstructed[0].squeeze(), cmap='gray')\n",
        "# plt.axis('off')\n",
        "# plt.tight_layout()\n",
        "# plt.show()\n"
      ],
      "metadata": {
        "id": "OIMQ7kKR6Tae"
      },
      "id": "OIMQ7kKR6Tae",
      "execution_count": null,
      "outputs": []
    }
  ],
  "metadata": {
    "colab": {
      "provenance": [],
      "gpuType": "T4"
    },
    "accelerator": "GPU",
    "language_info": {
      "name": "python"
    },
    "kernelspec": {
      "name": "python3",
      "display_name": "Python 3"
    }
  },
  "nbformat": 4,
  "nbformat_minor": 5
}